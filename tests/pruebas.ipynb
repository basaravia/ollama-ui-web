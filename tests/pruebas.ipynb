{
 "cells": [
  {
   "cell_type": "code",
   "execution_count": 1,
   "metadata": {},
   "outputs": [
    {
     "name": "stderr",
     "output_type": "stream",
     "text": [
      "2025-02-06 13:00:57.516 WARNING streamlit.runtime.scriptrunner_utils.script_run_context: Thread 'MainThread': missing ScriptRunContext! This warning can be ignored when running in bare mode.\n",
      "2025-02-06 13:00:57.517 WARNING streamlit.runtime.scriptrunner_utils.script_run_context: Thread 'MainThread': missing ScriptRunContext! This warning can be ignored when running in bare mode.\n",
      "2025-02-06 13:00:57.641 \n",
      "  \u001b[33m\u001b[1mWarning:\u001b[0m to view this Streamlit app on a browser, run it with the following\n",
      "  command:\n",
      "\n",
      "    streamlit run /Users/basaravia/miniconda3/envs/fine-tuning/lib/python3.10/site-packages/ipykernel_launcher.py [ARGUMENTS]\n",
      "2025-02-06 13:00:57.642 Thread 'MainThread': missing ScriptRunContext! This warning can be ignored when running in bare mode.\n"
     ]
    }
   ],
   "source": []
  },
  {
   "cell_type": "code",
   "execution_count": 10,
   "metadata": {},
   "outputs": [
    {
     "name": "stderr",
     "output_type": "stream",
     "text": [
      "2025-02-06 13:07:54.939 Thread 'MainThread': missing ScriptRunContext! This warning can be ignored when running in bare mode.\n",
      "2025-02-06 13:07:54.941 Thread 'MainThread': missing ScriptRunContext! This warning can be ignored when running in bare mode.\n",
      "2025-02-06 13:07:54.942 Thread 'MainThread': missing ScriptRunContext! This warning can be ignored when running in bare mode.\n"
     ]
    }
   ],
   "source": [
    "import streamlit as st\n",
    "import requests\n",
    "import json\n",
    "import base64\n",
    "import os\n",
    "import pandas as pd\n",
    "\n",
    "# Configuración de colores\n",
    "theme_primary = \"#ffdd00\"\n",
    "theme_secondary = \"#72787a\"\n",
    "theme_accent = \"#0f265c\"\n",
    "\n",
    "st.set_page_config(page_title=\"Ollama Streamlit App\", layout=\"wide\")\n",
    "st.markdown(\n",
    "    f\"\"\"\n",
    "    <style>\n",
    "        .stApp {{ background-color: {theme_primary}; }}\n",
    "        .stButton>button {{ background-color: {theme_accent}; color: white; }}\n",
    "        .stSelectbox>div {{ background-color: {theme_secondary}; color: white; }}\n",
    "        .stTextInput>div>input {{ background-color: white; color: black; }}\n",
    "    </style>\n",
    "    \"\"\",\n",
    "    unsafe_allow_html=True\n",
    ")\n",
    "\n",
    "# Base URL para la API de Ollama\n",
    "OLLAMA_API = \"http://localhost:11434/api\"\n",
    "\n",
    "def list_models():\n",
    "    response = requests.get(f\"{OLLAMA_API}/tags\")\n",
    "    if response.status_code == 200:\n",
    "        return response.json().get(\"models\", [])\n",
    "    return []\n",
    "\n",
    "def delete_model(model_name):\n",
    "    response = requests.post(f\"{OLLAMA_API}/delete\", json={\"model\": model_name})\n",
    "    return response.status_code == 200\n",
    "\n",
    "def download_model(model_name):\n",
    "    response = requests.post(f\"{OLLAMA_API}/pull\", json={\"model\": model_name})\n",
    "    return response.status_code == 200\n",
    "\n",
    "def show_model_details(model_name):\n",
    "    response = requests.post(f\"{OLLAMA_API}/show\", json={\"model\": model_name})\n",
    "    if response.status_code == 200:\n",
    "        data = response.json()\n",
    "        return {\n",
    "            \"template\": data.get(\"template\", \"N/A\"),\n",
    "            \"details\": data.get(\"details\", \"N/A\"),\n",
    "            # \"model_info\": data.get(\"model_info\", \"N/A\"),\n",
    "            \"modified_at\": data.get(\"modified_at\", \"N/A\")\n",
    "        }\n",
    "    return {\"error\": \"No se pudo obtener información del modelo\"}\n",
    "\n",
    "def encode_image(image_path):\n",
    "    with open(image_path, \"rb\") as image_file:\n",
    "        return base64.b64encode(image_file.read()).decode(\"utf-8\")\n"
   ]
  },
  {
   "cell_type": "code",
   "execution_count": 1,
   "metadata": {},
   "outputs": [
    {
     "ename": "NameError",
     "evalue": "name 'model_details' is not defined",
     "output_type": "error",
     "traceback": [
      "\u001b[0;31m---------------------------------------------------------------------------\u001b[0m",
      "\u001b[0;31mNameError\u001b[0m                                 Traceback (most recent call last)",
      "Cell \u001b[0;32mIn[1], line 1\u001b[0m\n\u001b[0;32m----> 1\u001b[0m \u001b[43mmodel_details\u001b[49m[\u001b[38;5;124m\"\u001b[39m\u001b[38;5;124mdetails\u001b[39m\u001b[38;5;124m\"\u001b[39m]\n",
      "\u001b[0;31mNameError\u001b[0m: name 'model_details' is not defined"
     ]
    }
   ],
   "source": [
    "model_details[\"details\"]"
   ]
  },
  {
   "cell_type": "code",
   "execution_count": 9,
   "metadata": {},
   "outputs": [
    {
     "data": {
      "text/plain": [
       "{'license': 'LLAMA 3.2 COMMUNITY LICENSE AGREEMENT\\nLlama 3.2 Version Release Date: September 25, 2024\\n\\n“Agreement” means the terms and conditions for use, reproduction, distribution \\nand modification of the Llama Materials set forth herein.\\n\\n“Documentation” means the specifications, manuals and documentation accompanying Llama 3.2\\ndistributed by Meta at https://llama.meta.com/doc/overview.\\n\\n“Licensee” or “you” means you, or your employer or any other person or entity (if you are \\nentering into this Agreement on such person or entity’s behalf), of the age required under\\napplicable laws, rules or regulations to provide legal consent and that has legal authority\\nto bind your employer or such other person or entity if you are entering in this Agreement\\non their behalf.\\n\\n“Llama 3.2” means the foundational large language models and software and algorithms, including\\nmachine-learning model code, trained model weights, inference-enabling code, training-enabling code,\\nfine-tuning enabling code and other elements of the foregoing distributed by Meta at \\nhttps://www.llama.com/llama-downloads.\\n\\n“Llama Materials” means, collectively, Meta’s proprietary Llama 3.2 and Documentation (and \\nany portion thereof) made available under this Agreement.\\n\\n“Meta” or “we” means Meta Platforms Ireland Limited (if you are located in or, \\nif you are an entity, your principal place of business is in the EEA or Switzerland) \\nand Meta Platforms, Inc. (if you are located outside of the EEA or Switzerland). \\n\\n\\nBy clicking “I Accept” below or by using or distributing any portion or element of the Llama Materials,\\nyou agree to be bound by this Agreement.\\n\\n\\n1. License Rights and Redistribution.\\n\\n    a. Grant of Rights. You are granted a non-exclusive, worldwide, \\nnon-transferable and royalty-free limited license under Meta’s intellectual property or other rights \\nowned by Meta embodied in the Llama Materials to use, reproduce, distribute, copy, create derivative works \\nof, and make modifications to the Llama Materials.  \\n\\n    b. Redistribution and Use.  \\n\\n        i. If you distribute or make available the Llama Materials (or any derivative works thereof), \\nor a product or service (including another AI model) that contains any of them, you shall (A) provide\\na copy of this Agreement with any such Llama Materials; and (B) prominently display “Built with Llama”\\non a related website, user interface, blogpost, about page, or product documentation. If you use the\\nLlama Materials or any outputs or results of the Llama Materials to create, train, fine tune, or\\notherwise improve an AI model, which is distributed or made available, you shall also include “Llama”\\nat the beginning of any such AI model name.\\n\\n        ii. If you receive Llama Materials, or any derivative works thereof, from a Licensee as part\\nof an integrated end user product, then Section 2 of this Agreement will not apply to you. \\n\\n        iii. You must retain in all copies of the Llama Materials that you distribute the \\nfollowing attribution notice within a “Notice” text file distributed as a part of such copies: \\n“Llama 3.2 is licensed under the Llama 3.2 Community License, Copyright © Meta Platforms,\\nInc. All Rights Reserved.”\\n\\n        iv. Your use of the Llama Materials must comply with applicable laws and regulations\\n(including trade compliance laws and regulations) and adhere to the Acceptable Use Policy for\\nthe Llama Materials (available at https://www.llama.com/llama3_2/use-policy), which is hereby \\nincorporated by reference into this Agreement.\\n  \\n2. Additional Commercial Terms. If, on the Llama 3.2 version release date, the monthly active users\\nof the products or services made available by or for Licensee, or Licensee’s affiliates, \\nis greater than 700 million monthly active users in the preceding calendar month, you must request \\na license from Meta, which Meta may grant to you in its sole discretion, and you are not authorized to\\nexercise any of the rights under this Agreement unless or until Meta otherwise expressly grants you such rights.\\n\\n3. Disclaimer of Warranty. UNLESS REQUIRED BY APPLICABLE LAW, THE LLAMA MATERIALS AND ANY OUTPUT AND \\nRESULTS THEREFROM ARE PROVIDED ON AN “AS IS” BASIS, WITHOUT WARRANTIES OF ANY KIND, AND META DISCLAIMS\\nALL WARRANTIES OF ANY KIND, BOTH EXPRESS AND IMPLIED, INCLUDING, WITHOUT LIMITATION, ANY WARRANTIES\\nOF TITLE, NON-INFRINGEMENT, MERCHANTABILITY, OR FITNESS FOR A PARTICULAR PURPOSE. YOU ARE SOLELY RESPONSIBLE\\nFOR DETERMINING THE APPROPRIATENESS OF USING OR REDISTRIBUTING THE LLAMA MATERIALS AND ASSUME ANY RISKS ASSOCIATED\\nWITH YOUR USE OF THE LLAMA MATERIALS AND ANY OUTPUT AND RESULTS.\\n\\n4. Limitation of Liability. IN NO EVENT WILL META OR ITS AFFILIATES BE LIABLE UNDER ANY THEORY OF LIABILITY, \\nWHETHER IN CONTRACT, TORT, NEGLIGENCE, PRODUCTS LIABILITY, OR OTHERWISE, ARISING OUT OF THIS AGREEMENT, \\nFOR ANY LOST PROFITS OR ANY INDIRECT, SPECIAL, CONSEQUENTIAL, INCIDENTAL, EXEMPLARY OR PUNITIVE DAMAGES, EVEN \\nIF META OR ITS AFFILIATES HAVE BEEN ADVISED OF THE POSSIBILITY OF ANY OF THE FOREGOING.\\n\\n5. Intellectual Property.\\n\\n    a. No trademark licenses are granted under this Agreement, and in connection with the Llama Materials, \\nneither Meta nor Licensee may use any name or mark owned by or associated with the other or any of its affiliates, \\nexcept as required for reasonable and customary use in describing and redistributing the Llama Materials or as \\nset forth in this Section 5(a). Meta hereby grants you a license to use “Llama” (the “Mark”) solely as required \\nto comply with the last sentence of Section 1.b.i. You will comply with Meta’s brand guidelines (currently accessible \\nat https://about.meta.com/brand/resources/meta/company-brand/). All goodwill arising out of your use of the Mark \\nwill inure to the benefit of Meta.\\n\\n    b. Subject to Meta’s ownership of Llama Materials and derivatives made by or for Meta, with respect to any\\n    derivative works and modifications of the Llama Materials that are made by you, as between you and Meta,\\n    you are and will be the owner of such derivative works and modifications.\\n\\n    c. If you institute litigation or other proceedings against Meta or any entity (including a cross-claim or\\n    counterclaim in a lawsuit) alleging that the Llama Materials or Llama 3.2 outputs or results, or any portion\\n    of any of the foregoing, constitutes infringement of intellectual property or other rights owned or licensable\\n    by you, then any licenses granted to you under this Agreement shall terminate as of the date such litigation or\\n    claim is filed or instituted. You will indemnify and hold harmless Meta from and against any claim by any third\\n    party arising out of or related to your use or distribution of the Llama Materials.\\n\\n6. Term and Termination. The term of this Agreement will commence upon your acceptance of this Agreement or access\\nto the Llama Materials and will continue in full force and effect until terminated in accordance with the terms\\nand conditions herein. Meta may terminate this Agreement if you are in breach of any term or condition of this\\nAgreement. Upon termination of this Agreement, you shall delete and cease use of the Llama Materials. Sections 3,\\n4 and 7 shall survive the termination of this Agreement. \\n\\n7. Governing Law and Jurisdiction. This Agreement will be governed and construed under the laws of the State of \\nCalifornia without regard to choice of law principles, and the UN Convention on Contracts for the International\\nSale of Goods does not apply to this Agreement. The courts of California shall have exclusive jurisdiction of\\nany dispute arising out of this Agreement.\\n**Llama 3.2** **Acceptable Use Policy**\\n\\nMeta is committed to promoting safe and fair use of its tools and features, including Llama 3.2. If you access or use Llama 3.2, you agree to this Acceptable Use Policy (“**Policy**”). The most recent copy of this policy can be found at [https://www.llama.com/llama3_2/use-policy](https://www.llama.com/llama3_2/use-policy).\\n\\n**Prohibited Uses**\\n\\nWe want everyone to use Llama 3.2 safely and responsibly. You agree you will not use, or allow others to use, Llama 3.2 to:\\n\\n\\n\\n1. Violate the law or others’ rights, including to:\\n    1. Engage in, promote, generate, contribute to, encourage, plan, incite, or further illegal or unlawful activity or content, such as:\\n        1. Violence or terrorism\\n        2. Exploitation or harm to children, including the solicitation, creation, acquisition, or dissemination of child exploitative content or failure to report Child Sexual Abuse Material\\n        3. Human trafficking, exploitation, and sexual violence\\n        4. The illegal distribution of information or materials to minors, including obscene materials, or failure to employ legally required age-gating in connection with such information or materials.\\n        5. Sexual solicitation\\n        6. Any other criminal activity\\n    1. Engage in, promote, incite, or facilitate the harassment, abuse, threatening, or bullying of individuals or groups of individuals\\n    2. Engage in, promote, incite, or facilitate discrimination or other unlawful or harmful conduct in the provision of employment, employment benefits, credit, housing, other economic benefits, or other essential goods and services\\n    3. Engage in the unauthorized or unlicensed practice of any profession including, but not limited to, financial, legal, medical/health, or related professional practices\\n    4. Collect, process, disclose, generate, or infer private or sensitive information about individuals, including information about individuals’ identity, health, or demographic information, unless you have obtained the right to do so in accordance with applicable law\\n    5. Engage in or facilitate any action or generate any content that infringes, misappropriates, or otherwise violates any third-party rights, including the outputs or results of any products or services using the Llama Materials\\n    6. Create, generate, or facilitate the creation of malicious code, malware, computer viruses or do anything else that could disable, overburden, interfere with or impair the proper working, integrity, operation or appearance of a website or computer system\\n    7. Engage in any action, or facilitate any action, to intentionally circumvent or remove usage restrictions or other safety measures, or to enable functionality disabled by Meta\\n2. Engage in, promote, incite, facilitate, or assist in the planning or development of activities that present a risk of death or bodily harm to individuals, including use of Llama 3.2 related to the following:\\n    8. Military, warfare, nuclear industries or applications, espionage, use for materials or activities that are subject to the International Traffic Arms Regulations (ITAR) maintained by the United States Department of State or to the U.S. Biological Weapons Anti-Terrorism Act of 1989 or the Chemical Weapons Convention Implementation Act of 1997\\n    9. Guns and illegal weapons (including weapon development)\\n    10. Illegal drugs and regulated/controlled substances\\n    11. Operation of critical infrastructure, transportation technologies, or heavy machinery\\n    12. Self-harm or harm to others, including suicide, cutting, and eating disorders\\n    13. Any content intended to incite or promote violence, abuse, or any infliction of bodily harm to an individual\\n3. Intentionally deceive or mislead others, including use of Llama 3.2 related to the following:\\n    14. Generating, promoting, or furthering fraud or the creation or promotion of disinformation\\n    15. Generating, promoting, or furthering defamatory content, including the creation of defamatory statements, images, or other content\\n    16. Generating, promoting, or further distributing spam\\n    17. Impersonating another individual without consent, authorization, or legal right\\n    18. Representing that the use of Llama 3.2 or outputs are human-generated\\n    19. Generating or facilitating false online engagement, including fake reviews and other means of fake online engagement\\n4. Fail to appropriately disclose to end users any known dangers of your AI system\\n5. Interact with third party tools, models, or software designed to generate unlawful content or engage in unlawful or harmful conduct and/or represent that the outputs of such tools, models, or software are associated with Meta or Llama 3.2\\n\\nWith respect to any multimodal models included in Llama 3.2, the rights granted under Section 1(a) of the Llama 3.2 Community License Agreement are not being granted to you if you are an individual domiciled in, or a company with a principal place of business in, the European Union. This restriction does not apply to end users of a product or service that incorporates any such multimodal models.\\n\\nPlease report any violation of this Policy, software “bug,” or other problems that could lead to a violation of this Policy through one of the following means:\\n\\n\\n\\n* Reporting issues with the model: [https://github.com/meta-llama/llama-models/issues](https://l.workplace.com/l.php?u=https%3A%2F%2Fgithub.com%2Fmeta-llama%2Fllama-models%2Fissues&h=AT0qV8W9BFT6NwihiOHRuKYQM_UnkzN_NmHMy91OT55gkLpgi4kQupHUl0ssR4dQsIQ8n3tfd0vtkobvsEvt1l4Ic6GXI2EeuHV8N08OG2WnbAmm0FL4ObkazC6G_256vN0lN9DsykCvCqGZ)\\n* Reporting risky content generated by the model: [developers.facebook.com/llama_output_feedback](http://developers.facebook.com/llama_output_feedback)\\n* Reporting bugs and security concerns: [facebook.com/whitehat/info](http://facebook.com/whitehat/info)\\n* Reporting violations of the Acceptable Use Policy or unlicensed uses of Llama 3.2: LlamaUseReport@meta.com',\n",
       " 'modelfile': '# Modelfile generated by \"ollama show\"\\n# To build a new Modelfile based on this, replace FROM with:\\n# FROM llama3.2:1b\\n\\nFROM /Users/basaravia/.ollama/models/blobs/sha256-74701a8c35f6c8d9a4b91f3f3497643001d63e0c7a84e085bed452548fa88d45\\nTEMPLATE \"\"\"<|start_header_id|>system<|end_header_id|>\\n\\nCutting Knowledge Date: December 2023\\n\\n{{ if .System }}{{ .System }}\\n{{- end }}\\n{{- if .Tools }}When you receive a tool call response, use the output to format an answer to the orginal user question.\\n\\nYou are a helpful assistant with tool calling capabilities.\\n{{- end }}<|eot_id|>\\n{{- range $i, $_ := .Messages }}\\n{{- $last := eq (len (slice $.Messages $i)) 1 }}\\n{{- if eq .Role \"user\" }}<|start_header_id|>user<|end_header_id|>\\n{{- if and $.Tools $last }}\\n\\nGiven the following functions, please respond with a JSON for a function call with its proper arguments that best answers the given prompt.\\n\\nRespond in the format {\"name\": function name, \"parameters\": dictionary of argument name and its value}. Do not use variables.\\n\\n{{ range $.Tools }}\\n{{- . }}\\n{{ end }}\\n{{ .Content }}<|eot_id|>\\n{{- else }}\\n\\n{{ .Content }}<|eot_id|>\\n{{- end }}{{ if $last }}<|start_header_id|>assistant<|end_header_id|>\\n\\n{{ end }}\\n{{- else if eq .Role \"assistant\" }}<|start_header_id|>assistant<|end_header_id|>\\n{{- if .ToolCalls }}\\n{{ range .ToolCalls }}\\n{\"name\": \"{{ .Function.Name }}\", \"parameters\": {{ .Function.Arguments }}}{{ end }}\\n{{- else }}\\n\\n{{ .Content }}\\n{{- end }}{{ if not $last }}<|eot_id|>{{ end }}\\n{{- else if eq .Role \"tool\" }}<|start_header_id|>ipython<|end_header_id|>\\n\\n{{ .Content }}<|eot_id|>{{ if $last }}<|start_header_id|>assistant<|end_header_id|>\\n\\n{{ end }}\\n{{- end }}\\n{{- end }}\"\"\"\\nLICENSE \"LLAMA 3.2 COMMUNITY LICENSE AGREEMENT\\nLlama 3.2 Version Release Date: September 25, 2024\\n\\n“Agreement” means the terms and conditions for use, reproduction, distribution \\nand modification of the Llama Materials set forth herein.\\n\\n“Documentation” means the specifications, manuals and documentation accompanying Llama 3.2\\ndistributed by Meta at https://llama.meta.com/doc/overview.\\n\\n“Licensee” or “you” means you, or your employer or any other person or entity (if you are \\nentering into this Agreement on such person or entity’s behalf), of the age required under\\napplicable laws, rules or regulations to provide legal consent and that has legal authority\\nto bind your employer or such other person or entity if you are entering in this Agreement\\non their behalf.\\n\\n“Llama 3.2” means the foundational large language models and software and algorithms, including\\nmachine-learning model code, trained model weights, inference-enabling code, training-enabling code,\\nfine-tuning enabling code and other elements of the foregoing distributed by Meta at \\nhttps://www.llama.com/llama-downloads.\\n\\n“Llama Materials” means, collectively, Meta’s proprietary Llama 3.2 and Documentation (and \\nany portion thereof) made available under this Agreement.\\n\\n“Meta” or “we” means Meta Platforms Ireland Limited (if you are located in or, \\nif you are an entity, your principal place of business is in the EEA or Switzerland) \\nand Meta Platforms, Inc. (if you are located outside of the EEA or Switzerland). \\n\\n\\nBy clicking “I Accept” below or by using or distributing any portion or element of the Llama Materials,\\nyou agree to be bound by this Agreement.\\n\\n\\n1. License Rights and Redistribution.\\n\\n    a. Grant of Rights. You are granted a non-exclusive, worldwide, \\nnon-transferable and royalty-free limited license under Meta’s intellectual property or other rights \\nowned by Meta embodied in the Llama Materials to use, reproduce, distribute, copy, create derivative works \\nof, and make modifications to the Llama Materials.  \\n\\n    b. Redistribution and Use.  \\n\\n        i. If you distribute or make available the Llama Materials (or any derivative works thereof), \\nor a product or service (including another AI model) that contains any of them, you shall (A) provide\\na copy of this Agreement with any such Llama Materials; and (B) prominently display “Built with Llama”\\non a related website, user interface, blogpost, about page, or product documentation. If you use the\\nLlama Materials or any outputs or results of the Llama Materials to create, train, fine tune, or\\notherwise improve an AI model, which is distributed or made available, you shall also include “Llama”\\nat the beginning of any such AI model name.\\n\\n        ii. If you receive Llama Materials, or any derivative works thereof, from a Licensee as part\\nof an integrated end user product, then Section 2 of this Agreement will not apply to you. \\n\\n        iii. You must retain in all copies of the Llama Materials that you distribute the \\nfollowing attribution notice within a “Notice” text file distributed as a part of such copies: \\n“Llama 3.2 is licensed under the Llama 3.2 Community License, Copyright © Meta Platforms,\\nInc. All Rights Reserved.”\\n\\n        iv. Your use of the Llama Materials must comply with applicable laws and regulations\\n(including trade compliance laws and regulations) and adhere to the Acceptable Use Policy for\\nthe Llama Materials (available at https://www.llama.com/llama3_2/use-policy), which is hereby \\nincorporated by reference into this Agreement.\\n  \\n2. Additional Commercial Terms. If, on the Llama 3.2 version release date, the monthly active users\\nof the products or services made available by or for Licensee, or Licensee’s affiliates, \\nis greater than 700 million monthly active users in the preceding calendar month, you must request \\na license from Meta, which Meta may grant to you in its sole discretion, and you are not authorized to\\nexercise any of the rights under this Agreement unless or until Meta otherwise expressly grants you such rights.\\n\\n3. Disclaimer of Warranty. UNLESS REQUIRED BY APPLICABLE LAW, THE LLAMA MATERIALS AND ANY OUTPUT AND \\nRESULTS THEREFROM ARE PROVIDED ON AN “AS IS” BASIS, WITHOUT WARRANTIES OF ANY KIND, AND META DISCLAIMS\\nALL WARRANTIES OF ANY KIND, BOTH EXPRESS AND IMPLIED, INCLUDING, WITHOUT LIMITATION, ANY WARRANTIES\\nOF TITLE, NON-INFRINGEMENT, MERCHANTABILITY, OR FITNESS FOR A PARTICULAR PURPOSE. YOU ARE SOLELY RESPONSIBLE\\nFOR DETERMINING THE APPROPRIATENESS OF USING OR REDISTRIBUTING THE LLAMA MATERIALS AND ASSUME ANY RISKS ASSOCIATED\\nWITH YOUR USE OF THE LLAMA MATERIALS AND ANY OUTPUT AND RESULTS.\\n\\n4. Limitation of Liability. IN NO EVENT WILL META OR ITS AFFILIATES BE LIABLE UNDER ANY THEORY OF LIABILITY, \\nWHETHER IN CONTRACT, TORT, NEGLIGENCE, PRODUCTS LIABILITY, OR OTHERWISE, ARISING OUT OF THIS AGREEMENT, \\nFOR ANY LOST PROFITS OR ANY INDIRECT, SPECIAL, CONSEQUENTIAL, INCIDENTAL, EXEMPLARY OR PUNITIVE DAMAGES, EVEN \\nIF META OR ITS AFFILIATES HAVE BEEN ADVISED OF THE POSSIBILITY OF ANY OF THE FOREGOING.\\n\\n5. Intellectual Property.\\n\\n    a. No trademark licenses are granted under this Agreement, and in connection with the Llama Materials, \\nneither Meta nor Licensee may use any name or mark owned by or associated with the other or any of its affiliates, \\nexcept as required for reasonable and customary use in describing and redistributing the Llama Materials or as \\nset forth in this Section 5(a). Meta hereby grants you a license to use “Llama” (the “Mark”) solely as required \\nto comply with the last sentence of Section 1.b.i. You will comply with Meta’s brand guidelines (currently accessible \\nat https://about.meta.com/brand/resources/meta/company-brand/). All goodwill arising out of your use of the Mark \\nwill inure to the benefit of Meta.\\n\\n    b. Subject to Meta’s ownership of Llama Materials and derivatives made by or for Meta, with respect to any\\n    derivative works and modifications of the Llama Materials that are made by you, as between you and Meta,\\n    you are and will be the owner of such derivative works and modifications.\\n\\n    c. If you institute litigation or other proceedings against Meta or any entity (including a cross-claim or\\n    counterclaim in a lawsuit) alleging that the Llama Materials or Llama 3.2 outputs or results, or any portion\\n    of any of the foregoing, constitutes infringement of intellectual property or other rights owned or licensable\\n    by you, then any licenses granted to you under this Agreement shall terminate as of the date such litigation or\\n    claim is filed or instituted. You will indemnify and hold harmless Meta from and against any claim by any third\\n    party arising out of or related to your use or distribution of the Llama Materials.\\n\\n6. Term and Termination. The term of this Agreement will commence upon your acceptance of this Agreement or access\\nto the Llama Materials and will continue in full force and effect until terminated in accordance with the terms\\nand conditions herein. Meta may terminate this Agreement if you are in breach of any term or condition of this\\nAgreement. Upon termination of this Agreement, you shall delete and cease use of the Llama Materials. Sections 3,\\n4 and 7 shall survive the termination of this Agreement. \\n\\n7. Governing Law and Jurisdiction. This Agreement will be governed and construed under the laws of the State of \\nCalifornia without regard to choice of law principles, and the UN Convention on Contracts for the International\\nSale of Goods does not apply to this Agreement. The courts of California shall have exclusive jurisdiction of\\nany dispute arising out of this Agreement.\"\\nLICENSE \"**Llama 3.2** **Acceptable Use Policy**\\n\\nMeta is committed to promoting safe and fair use of its tools and features, including Llama 3.2. If you access or use Llama 3.2, you agree to this Acceptable Use Policy (“**Policy**”). The most recent copy of this policy can be found at [https://www.llama.com/llama3_2/use-policy](https://www.llama.com/llama3_2/use-policy).\\n\\n**Prohibited Uses**\\n\\nWe want everyone to use Llama 3.2 safely and responsibly. You agree you will not use, or allow others to use, Llama 3.2 to:\\n\\n\\n\\n1. Violate the law or others’ rights, including to:\\n    1. Engage in, promote, generate, contribute to, encourage, plan, incite, or further illegal or unlawful activity or content, such as:\\n        1. Violence or terrorism\\n        2. Exploitation or harm to children, including the solicitation, creation, acquisition, or dissemination of child exploitative content or failure to report Child Sexual Abuse Material\\n        3. Human trafficking, exploitation, and sexual violence\\n        4. The illegal distribution of information or materials to minors, including obscene materials, or failure to employ legally required age-gating in connection with such information or materials.\\n        5. Sexual solicitation\\n        6. Any other criminal activity\\n    1. Engage in, promote, incite, or facilitate the harassment, abuse, threatening, or bullying of individuals or groups of individuals\\n    2. Engage in, promote, incite, or facilitate discrimination or other unlawful or harmful conduct in the provision of employment, employment benefits, credit, housing, other economic benefits, or other essential goods and services\\n    3. Engage in the unauthorized or unlicensed practice of any profession including, but not limited to, financial, legal, medical/health, or related professional practices\\n    4. Collect, process, disclose, generate, or infer private or sensitive information about individuals, including information about individuals’ identity, health, or demographic information, unless you have obtained the right to do so in accordance with applicable law\\n    5. Engage in or facilitate any action or generate any content that infringes, misappropriates, or otherwise violates any third-party rights, including the outputs or results of any products or services using the Llama Materials\\n    6. Create, generate, or facilitate the creation of malicious code, malware, computer viruses or do anything else that could disable, overburden, interfere with or impair the proper working, integrity, operation or appearance of a website or computer system\\n    7. Engage in any action, or facilitate any action, to intentionally circumvent or remove usage restrictions or other safety measures, or to enable functionality disabled by Meta\\n2. Engage in, promote, incite, facilitate, or assist in the planning or development of activities that present a risk of death or bodily harm to individuals, including use of Llama 3.2 related to the following:\\n    8. Military, warfare, nuclear industries or applications, espionage, use for materials or activities that are subject to the International Traffic Arms Regulations (ITAR) maintained by the United States Department of State or to the U.S. Biological Weapons Anti-Terrorism Act of 1989 or the Chemical Weapons Convention Implementation Act of 1997\\n    9. Guns and illegal weapons (including weapon development)\\n    10. Illegal drugs and regulated/controlled substances\\n    11. Operation of critical infrastructure, transportation technologies, or heavy machinery\\n    12. Self-harm or harm to others, including suicide, cutting, and eating disorders\\n    13. Any content intended to incite or promote violence, abuse, or any infliction of bodily harm to an individual\\n3. Intentionally deceive or mislead others, including use of Llama 3.2 related to the following:\\n    14. Generating, promoting, or furthering fraud or the creation or promotion of disinformation\\n    15. Generating, promoting, or furthering defamatory content, including the creation of defamatory statements, images, or other content\\n    16. Generating, promoting, or further distributing spam\\n    17. Impersonating another individual without consent, authorization, or legal right\\n    18. Representing that the use of Llama 3.2 or outputs are human-generated\\n    19. Generating or facilitating false online engagement, including fake reviews and other means of fake online engagement\\n4. Fail to appropriately disclose to end users any known dangers of your AI system\\n5. Interact with third party tools, models, or software designed to generate unlawful content or engage in unlawful or harmful conduct and/or represent that the outputs of such tools, models, or software are associated with Meta or Llama 3.2\\n\\nWith respect to any multimodal models included in Llama 3.2, the rights granted under Section 1(a) of the Llama 3.2 Community License Agreement are not being granted to you if you are an individual domiciled in, or a company with a principal place of business in, the European Union. This restriction does not apply to end users of a product or service that incorporates any such multimodal models.\\n\\nPlease report any violation of this Policy, software “bug,” or other problems that could lead to a violation of this Policy through one of the following means:\\n\\n\\n\\n* Reporting issues with the model: [https://github.com/meta-llama/llama-models/issues](https://l.workplace.com/l.php?u=https%3A%2F%2Fgithub.com%2Fmeta-llama%2Fllama-models%2Fissues&h=AT0qV8W9BFT6NwihiOHRuKYQM_UnkzN_NmHMy91OT55gkLpgi4kQupHUl0ssR4dQsIQ8n3tfd0vtkobvsEvt1l4Ic6GXI2EeuHV8N08OG2WnbAmm0FL4ObkazC6G_256vN0lN9DsykCvCqGZ)\\n* Reporting risky content generated by the model: [developers.facebook.com/llama_output_feedback](http://developers.facebook.com/llama_output_feedback)\\n* Reporting bugs and security concerns: [facebook.com/whitehat/info](http://facebook.com/whitehat/info)\\n* Reporting violations of the Acceptable Use Policy or unlicensed uses of Llama 3.2: LlamaUseReport@meta.com\"\\n',\n",
       " 'template': '<|start_header_id|>system<|end_header_id|>\\n\\nCutting Knowledge Date: December 2023\\n\\n{{ if .System }}{{ .System }}\\n{{- end }}\\n{{- if .Tools }}When you receive a tool call response, use the output to format an answer to the orginal user question.\\n\\nYou are a helpful assistant with tool calling capabilities.\\n{{- end }}<|eot_id|>\\n{{- range $i, $_ := .Messages }}\\n{{- $last := eq (len (slice $.Messages $i)) 1 }}\\n{{- if eq .Role \"user\" }}<|start_header_id|>user<|end_header_id|>\\n{{- if and $.Tools $last }}\\n\\nGiven the following functions, please respond with a JSON for a function call with its proper arguments that best answers the given prompt.\\n\\nRespond in the format {\"name\": function name, \"parameters\": dictionary of argument name and its value}. Do not use variables.\\n\\n{{ range $.Tools }}\\n{{- . }}\\n{{ end }}\\n{{ .Content }}<|eot_id|>\\n{{- else }}\\n\\n{{ .Content }}<|eot_id|>\\n{{- end }}{{ if $last }}<|start_header_id|>assistant<|end_header_id|>\\n\\n{{ end }}\\n{{- else if eq .Role \"assistant\" }}<|start_header_id|>assistant<|end_header_id|>\\n{{- if .ToolCalls }}\\n{{ range .ToolCalls }}\\n{\"name\": \"{{ .Function.Name }}\", \"parameters\": {{ .Function.Arguments }}}{{ end }}\\n{{- else }}\\n\\n{{ .Content }}\\n{{- end }}{{ if not $last }}<|eot_id|>{{ end }}\\n{{- else if eq .Role \"tool\" }}<|start_header_id|>ipython<|end_header_id|>\\n\\n{{ .Content }}<|eot_id|>{{ if $last }}<|start_header_id|>assistant<|end_header_id|>\\n\\n{{ end }}\\n{{- end }}\\n{{- end }}',\n",
       " 'details': {'parent_model': '',\n",
       "  'format': 'gguf',\n",
       "  'family': 'llama',\n",
       "  'families': ['llama'],\n",
       "  'parameter_size': '1.2B',\n",
       "  'quantization_level': 'Q8_0'},\n",
       " 'model_info': {'general.architecture': 'llama',\n",
       "  'general.basename': 'Llama-3.2',\n",
       "  'general.file_type': 7,\n",
       "  'general.finetune': 'Instruct',\n",
       "  'general.languages': ['en', 'de', 'fr', 'it', 'pt', 'hi', 'es', 'th'],\n",
       "  'general.parameter_count': 1235814432,\n",
       "  'general.quantization_version': 2,\n",
       "  'general.size_label': '1B',\n",
       "  'general.tags': ['facebook',\n",
       "   'meta',\n",
       "   'pytorch',\n",
       "   'llama',\n",
       "   'llama-3',\n",
       "   'text-generation'],\n",
       "  'general.type': 'model',\n",
       "  'llama.attention.head_count': 32,\n",
       "  'llama.attention.head_count_kv': 8,\n",
       "  'llama.attention.key_length': 64,\n",
       "  'llama.attention.layer_norm_rms_epsilon': 1e-05,\n",
       "  'llama.attention.value_length': 64,\n",
       "  'llama.block_count': 16,\n",
       "  'llama.context_length': 131072,\n",
       "  'llama.embedding_length': 2048,\n",
       "  'llama.feed_forward_length': 8192,\n",
       "  'llama.rope.dimension_count': 64,\n",
       "  'llama.rope.freq_base': 500000,\n",
       "  'llama.vocab_size': 128256,\n",
       "  'tokenizer.ggml.bos_token_id': 128000,\n",
       "  'tokenizer.ggml.eos_token_id': 128009,\n",
       "  'tokenizer.ggml.merges': None,\n",
       "  'tokenizer.ggml.model': 'gpt2',\n",
       "  'tokenizer.ggml.pre': 'llama-bpe',\n",
       "  'tokenizer.ggml.token_type': None,\n",
       "  'tokenizer.ggml.tokens': None},\n",
       " 'modified_at': '2025-01-22T13:08:44.804636447-05:00'}"
      ]
     },
     "execution_count": 9,
     "metadata": {},
     "output_type": "execute_result"
    }
   ],
   "source": [
    "response = requests.post(f\"{OLLAMA_API}/show\", json={\"model\": \"llama3.2:1b\"})\n",
    "if response.status_code == 200:\n",
    "    data = response.json()\n",
    "data"
   ]
  },
  {
   "cell_type": "code",
   "execution_count": 49,
   "metadata": {},
   "outputs": [
    {
     "data": {
      "text/plain": [
       "requests.models.Response"
      ]
     },
     "execution_count": 49,
     "metadata": {},
     "output_type": "execute_result"
    }
   ],
   "source": [
    "type(response)"
   ]
  },
  {
   "cell_type": "code",
   "execution_count": 52,
   "metadata": {},
   "outputs": [
    {
     "data": {
      "text/plain": [
       "{'general.architecture': 'llama',\n",
       " 'general.basename': 'Llama-3.2',\n",
       " 'general.file_type': 7,\n",
       " 'general.finetune': 'Instruct',\n",
       " 'general.languages': ['en', 'de', 'fr', 'it', 'pt', 'hi', 'es', 'th'],\n",
       " 'general.parameter_count': 1235814432,\n",
       " 'general.quantization_version': 2,\n",
       " 'general.size_label': '1B',\n",
       " 'general.tags': ['facebook',\n",
       "  'meta',\n",
       "  'pytorch',\n",
       "  'llama',\n",
       "  'llama-3',\n",
       "  'text-generation'],\n",
       " 'general.type': 'model',\n",
       " 'llama.attention.head_count': 32,\n",
       " 'llama.attention.head_count_kv': 8,\n",
       " 'llama.attention.key_length': 64,\n",
       " 'llama.attention.layer_norm_rms_epsilon': 1e-05,\n",
       " 'llama.attention.value_length': 64,\n",
       " 'llama.block_count': 16,\n",
       " 'llama.context_length': 131072,\n",
       " 'llama.embedding_length': 2048,\n",
       " 'llama.feed_forward_length': 8192,\n",
       " 'llama.rope.dimension_count': 64,\n",
       " 'llama.rope.freq_base': 500000,\n",
       " 'llama.vocab_size': 128256,\n",
       " 'tokenizer.ggml.bos_token_id': 128000,\n",
       " 'tokenizer.ggml.eos_token_id': 128009,\n",
       " 'tokenizer.ggml.merges': None,\n",
       " 'tokenizer.ggml.model': 'gpt2',\n",
       " 'tokenizer.ggml.pre': 'llama-bpe',\n",
       " 'tokenizer.ggml.token_type': None,\n",
       " 'tokenizer.ggml.tokens': None}"
      ]
     },
     "execution_count": 52,
     "metadata": {},
     "output_type": "execute_result"
    }
   ],
   "source": [
    "data.get(\"model_info\", \"N/A\")"
   ]
  },
  {
   "cell_type": "code",
   "execution_count": 66,
   "metadata": {},
   "outputs": [],
   "source": [
    "def show_model_details(model_name):\n",
    "    response = requests.post(f\"{OLLAMA_API}/show\", json={\"model\": model_name})\n",
    "    if response.status_code == 200:\n",
    "        data = response.json()\n",
    "        return {\n",
    "            \"model_name\": model_name,\n",
    "            # \"template\": data.get(\"template\", \"N/A\"),\n",
    "            \"details\": data.get(\"details\", \"N/A\"),\n",
    "            \"model_info\": data.get(\"model_info\", \"N/A\"),\n",
    "            \"modified_at\": data.get(\"modified_at\", \"N/A\")\n",
    "        }\n",
    "    return {\"error\": \"No se pudo obtener información del modelo\"}"
   ]
  },
  {
   "cell_type": "code",
   "execution_count": 67,
   "metadata": {},
   "outputs": [
    {
     "data": {
      "text/plain": [
       "{'model_name': 'llama3.2:1b',\n",
       " 'details': {'parent_model': '',\n",
       "  'format': 'gguf',\n",
       "  'family': 'llama',\n",
       "  'families': ['llama'],\n",
       "  'parameter_size': '1.2B',\n",
       "  'quantization_level': 'Q8_0'},\n",
       " 'model_info': {'general.architecture': 'llama',\n",
       "  'general.basename': 'Llama-3.2',\n",
       "  'general.file_type': 7,\n",
       "  'general.finetune': 'Instruct',\n",
       "  'general.languages': ['en', 'de', 'fr', 'it', 'pt', 'hi', 'es', 'th'],\n",
       "  'general.parameter_count': 1235814432,\n",
       "  'general.quantization_version': 2,\n",
       "  'general.size_label': '1B',\n",
       "  'general.tags': ['facebook',\n",
       "   'meta',\n",
       "   'pytorch',\n",
       "   'llama',\n",
       "   'llama-3',\n",
       "   'text-generation'],\n",
       "  'general.type': 'model',\n",
       "  'llama.attention.head_count': 32,\n",
       "  'llama.attention.head_count_kv': 8,\n",
       "  'llama.attention.key_length': 64,\n",
       "  'llama.attention.layer_norm_rms_epsilon': 1e-05,\n",
       "  'llama.attention.value_length': 64,\n",
       "  'llama.block_count': 16,\n",
       "  'llama.context_length': 131072,\n",
       "  'llama.embedding_length': 2048,\n",
       "  'llama.feed_forward_length': 8192,\n",
       "  'llama.rope.dimension_count': 64,\n",
       "  'llama.rope.freq_base': 500000,\n",
       "  'llama.vocab_size': 128256,\n",
       "  'tokenizer.ggml.bos_token_id': 128000,\n",
       "  'tokenizer.ggml.eos_token_id': 128009,\n",
       "  'tokenizer.ggml.merges': None,\n",
       "  'tokenizer.ggml.model': 'gpt2',\n",
       "  'tokenizer.ggml.pre': 'llama-bpe',\n",
       "  'tokenizer.ggml.token_type': None,\n",
       "  'tokenizer.ggml.tokens': None},\n",
       " 'modified_at': '2025-01-22T13:08:44.804636447-05:00'}"
      ]
     },
     "execution_count": 67,
     "metadata": {},
     "output_type": "execute_result"
    }
   ],
   "source": [
    "show_model_details(\"llama3.2:1b\")"
   ]
  },
  {
   "cell_type": "code",
   "execution_count": 54,
   "metadata": {},
   "outputs": [
    {
     "data": {
      "text/plain": [
       "{'Model Name': 'llama3.2:1b',\n",
       " 'details': {'parent_model': '',\n",
       "  'format': 'gguf',\n",
       "  'family': 'llama',\n",
       "  'families': ['llama'],\n",
       "  'parameter_size': '1.2B',\n",
       "  'quantization_level': 'Q8_0'},\n",
       " 'model_info': {'general.architecture': 'llama',\n",
       "  'general.basename': 'Llama-3.2',\n",
       "  'general.file_type': 7,\n",
       "  'general.finetune': 'Instruct',\n",
       "  'general.languages': ['en', 'de', 'fr', 'it', 'pt', 'hi', 'es', 'th'],\n",
       "  'general.parameter_count': 1235814432,\n",
       "  'general.quantization_version': 2,\n",
       "  'general.size_label': '1B',\n",
       "  'general.tags': ['facebook',\n",
       "   'meta',\n",
       "   'pytorch',\n",
       "   'llama',\n",
       "   'llama-3',\n",
       "   'text-generation'],\n",
       "  'general.type': 'model',\n",
       "  'llama.attention.head_count': 32,\n",
       "  'llama.attention.head_count_kv': 8,\n",
       "  'llama.attention.key_length': 64,\n",
       "  'llama.attention.layer_norm_rms_epsilon': 1e-05,\n",
       "  'llama.attention.value_length': 64,\n",
       "  'llama.block_count': 16,\n",
       "  'llama.context_length': 131072,\n",
       "  'llama.embedding_length': 2048,\n",
       "  'llama.feed_forward_length': 8192,\n",
       "  'llama.rope.dimension_count': 64,\n",
       "  'llama.rope.freq_base': 500000,\n",
       "  'llama.vocab_size': 128256,\n",
       "  'tokenizer.ggml.bos_token_id': 128000,\n",
       "  'tokenizer.ggml.eos_token_id': 128009,\n",
       "  'tokenizer.ggml.merges': None,\n",
       "  'tokenizer.ggml.model': 'gpt2',\n",
       "  'tokenizer.ggml.pre': 'llama-bpe',\n",
       "  'tokenizer.ggml.token_type': None,\n",
       "  'tokenizer.ggml.tokens': None},\n",
       " 'modified_at': '2025-01-22T13:08:44.804636447-05:00'}"
      ]
     },
     "execution_count": 54,
     "metadata": {},
     "output_type": "execute_result"
    }
   ],
   "source": [
    "show_model_details(\"llama3.2:1b\")"
   ]
  },
  {
   "cell_type": "code",
   "execution_count": 69,
   "metadata": {},
   "outputs": [
    {
     "data": {
      "text/plain": [
       "dict_keys(['model_name', 'details', 'model_info', 'modified_at'])"
      ]
     },
     "execution_count": 69,
     "metadata": {},
     "output_type": "execute_result"
    }
   ],
   "source": [
    "model_details = show_model_details(\"llama3.2:1b\")\n",
    "model_details.keys()"
   ]
  },
  {
   "cell_type": "code",
   "execution_count": 77,
   "metadata": {},
   "outputs": [
    {
     "data": {
      "text/plain": [
       "{'general.architecture': 'llama',\n",
       " 'general.basename': 'Llama-3.2',\n",
       " 'general.file_type': 7,\n",
       " 'general.finetune': 'Instruct',\n",
       " 'general.languages[0]': 'en',\n",
       " 'general.languages[1]': 'de',\n",
       " 'general.languages[2]': 'fr',\n",
       " 'general.languages[3]': 'it',\n",
       " 'general.languages[4]': 'pt',\n",
       " 'general.languages[5]': 'hi',\n",
       " 'general.languages[6]': 'es',\n",
       " 'general.languages[7]': 'th',\n",
       " 'general.parameter_count': 1235814432,\n",
       " 'general.quantization_version': 2,\n",
       " 'general.size_label': '1B',\n",
       " 'general.tags[0]': 'facebook',\n",
       " 'general.tags[1]': 'meta',\n",
       " 'general.tags[2]': 'pytorch',\n",
       " 'general.tags[3]': 'llama',\n",
       " 'general.tags[4]': 'llama-3',\n",
       " 'general.tags[5]': 'text-generation',\n",
       " 'general.type': 'model',\n",
       " 'llama.attention.head_count': 32,\n",
       " 'llama.attention.head_count_kv': 8,\n",
       " 'llama.attention.key_length': 64,\n",
       " 'llama.attention.layer_norm_rms_epsilon': 1e-05,\n",
       " 'llama.attention.value_length': 64,\n",
       " 'llama.block_count': 16,\n",
       " 'llama.context_length': 131072,\n",
       " 'llama.embedding_length': 2048,\n",
       " 'llama.feed_forward_length': 8192,\n",
       " 'llama.rope.dimension_count': 64,\n",
       " 'llama.rope.freq_base': 500000,\n",
       " 'llama.vocab_size': 128256,\n",
       " 'tokenizer.ggml.bos_token_id': 128000,\n",
       " 'tokenizer.ggml.eos_token_id': 128009,\n",
       " 'tokenizer.ggml.merges': None,\n",
       " 'tokenizer.ggml.model': 'gpt2',\n",
       " 'tokenizer.ggml.pre': 'llama-bpe',\n",
       " 'tokenizer.ggml.token_type': None,\n",
       " 'tokenizer.ggml.tokens': None}"
      ]
     },
     "execution_count": 77,
     "metadata": {},
     "output_type": "execute_result"
    }
   ],
   "source": [
    "import json\n",
    "\n",
    "def flatten_json(nested_json, parent_key='', separator='.'):\n",
    "    \"\"\"\n",
    "    Aplana un JSON con n niveles de anidación.\n",
    "\n",
    "    Args:\n",
    "        nested_json (dict): El JSON anidado a aplanar.\n",
    "        parent_key (str, optional): Clave padre para concatenar claves anidadas.\n",
    "        separator (str, optional): Separador para las claves anidadas.\n",
    "\n",
    "    Returns:\n",
    "        dict: Diccionario aplanado.\n",
    "    \"\"\"\n",
    "    items = {}\n",
    "    for key, value in nested_json.items():\n",
    "        new_key = f\"{parent_key}{separator}{key}\" if parent_key else key\n",
    "        if isinstance(value, dict):\n",
    "            items.update(flatten_json(value, new_key, separator))\n",
    "        elif isinstance(value, list):\n",
    "            for i, v in enumerate(value):\n",
    "                items.update(flatten_json({f\"{key}[{i}]\": v}, parent_key, separator))\n",
    "        else:\n",
    "            items[new_key] = value\n",
    "    return items\n",
    "\n",
    "flatten_json(model_details[\"model_info\"])"
   ]
  },
  {
   "cell_type": "code",
   "execution_count": 74,
   "metadata": {},
   "outputs": [
    {
     "data": {
      "text/plain": [
       "{'general.architecture': 'llama',\n",
       " 'general.basename': 'Llama-3.2',\n",
       " 'general.file_type': 7,\n",
       " 'general.finetune': 'Instruct',\n",
       " 'general.languages': ['en', 'de', 'fr', 'it', 'pt', 'hi', 'es', 'th'],\n",
       " 'general.parameter_count': 1235814432,\n",
       " 'general.quantization_version': 2,\n",
       " 'general.size_label': '1B',\n",
       " 'general.tags': ['facebook',\n",
       "  'meta',\n",
       "  'pytorch',\n",
       "  'llama',\n",
       "  'llama-3',\n",
       "  'text-generation'],\n",
       " 'general.type': 'model',\n",
       " 'llama.attention.head_count': 32,\n",
       " 'llama.attention.head_count_kv': 8,\n",
       " 'llama.attention.key_length': 64,\n",
       " 'llama.attention.layer_norm_rms_epsilon': 1e-05,\n",
       " 'llama.attention.value_length': 64,\n",
       " 'llama.block_count': 16,\n",
       " 'llama.context_length': 131072,\n",
       " 'llama.embedding_length': 2048,\n",
       " 'llama.feed_forward_length': 8192,\n",
       " 'llama.rope.dimension_count': 64,\n",
       " 'llama.rope.freq_base': 500000,\n",
       " 'llama.vocab_size': 128256,\n",
       " 'tokenizer.ggml.bos_token_id': 128000,\n",
       " 'tokenizer.ggml.eos_token_id': 128009,\n",
       " 'tokenizer.ggml.merges': None,\n",
       " 'tokenizer.ggml.model': 'gpt2',\n",
       " 'tokenizer.ggml.pre': 'llama-bpe',\n",
       " 'tokenizer.ggml.token_type': None,\n",
       " 'tokenizer.ggml.tokens': None}"
      ]
     },
     "execution_count": 74,
     "metadata": {},
     "output_type": "execute_result"
    }
   ],
   "source": [
    "model_details[\"model_info\"]"
   ]
  },
  {
   "cell_type": "code",
   "execution_count": 73,
   "metadata": {},
   "outputs": [
    {
     "ename": "ValueError",
     "evalue": "DataFrame constructor not properly called!",
     "output_type": "error",
     "traceback": [
      "\u001b[0;31m---------------------------------------------------------------------------\u001b[0m",
      "\u001b[0;31mValueError\u001b[0m                                Traceback (most recent call last)",
      "\u001b[0;32m/var/folders/50/7yvqd0vd631479mqn7m23v240000gn/T/ipykernel_78237/2959419620.py\u001b[0m in \u001b[0;36m?\u001b[0;34m()\u001b[0m\n\u001b[0;32m----> 1\u001b[0;31m \u001b[0mpd\u001b[0m\u001b[0;34m.\u001b[0m\u001b[0mDataFrame\u001b[0m\u001b[0;34m(\u001b[0m\u001b[0mmodel_details\u001b[0m\u001b[0;34m[\u001b[0m\u001b[0;34m\"model_info\"\u001b[0m\u001b[0;34m]\u001b[0m\u001b[0;34m.\u001b[0m\u001b[0mvalues\u001b[0m\u001b[0;34m)\u001b[0m\u001b[0;34m\u001b[0m\u001b[0;34m\u001b[0m\u001b[0m\n\u001b[0m",
      "\u001b[0;32m~/miniconda3/envs/fine-tuning/lib/python3.10/site-packages/pandas/core/frame.py\u001b[0m in \u001b[0;36m?\u001b[0;34m(self, data, index, columns, dtype, copy)\u001b[0m\n\u001b[1;32m    882\u001b[0m                 )\n\u001b[1;32m    883\u001b[0m         \u001b[0;31m# For data is scalar\u001b[0m\u001b[0;34m\u001b[0m\u001b[0;34m\u001b[0m\u001b[0m\n\u001b[1;32m    884\u001b[0m         \u001b[0;32melse\u001b[0m\u001b[0;34m:\u001b[0m\u001b[0;34m\u001b[0m\u001b[0;34m\u001b[0m\u001b[0m\n\u001b[1;32m    885\u001b[0m             \u001b[0;32mif\u001b[0m \u001b[0mindex\u001b[0m \u001b[0;32mis\u001b[0m \u001b[0;32mNone\u001b[0m \u001b[0;32mor\u001b[0m \u001b[0mcolumns\u001b[0m \u001b[0;32mis\u001b[0m \u001b[0;32mNone\u001b[0m\u001b[0;34m:\u001b[0m\u001b[0;34m\u001b[0m\u001b[0;34m\u001b[0m\u001b[0m\n\u001b[0;32m--> 886\u001b[0;31m                 \u001b[0;32mraise\u001b[0m \u001b[0mValueError\u001b[0m\u001b[0;34m(\u001b[0m\u001b[0;34m\"DataFrame constructor not properly called!\"\u001b[0m\u001b[0;34m)\u001b[0m\u001b[0;34m\u001b[0m\u001b[0;34m\u001b[0m\u001b[0m\n\u001b[0m\u001b[1;32m    887\u001b[0m \u001b[0;34m\u001b[0m\u001b[0m\n\u001b[1;32m    888\u001b[0m             \u001b[0mindex\u001b[0m \u001b[0;34m=\u001b[0m \u001b[0mensure_index\u001b[0m\u001b[0;34m(\u001b[0m\u001b[0mindex\u001b[0m\u001b[0;34m)\u001b[0m\u001b[0;34m\u001b[0m\u001b[0;34m\u001b[0m\u001b[0m\n\u001b[1;32m    889\u001b[0m             \u001b[0mcolumns\u001b[0m \u001b[0;34m=\u001b[0m \u001b[0mensure_index\u001b[0m\u001b[0;34m(\u001b[0m\u001b[0mcolumns\u001b[0m\u001b[0;34m)\u001b[0m\u001b[0;34m\u001b[0m\u001b[0;34m\u001b[0m\u001b[0m\n",
      "\u001b[0;31mValueError\u001b[0m: DataFrame constructor not properly called!"
     ]
    }
   ],
   "source": [
    "pd.DataFrame(model_details[\"model_info\"])"
   ]
  },
  {
   "cell_type": "code",
   "execution_count": 70,
   "metadata": {},
   "outputs": [
    {
     "data": {
      "text/html": [
       "<div>\n",
       "<style scoped>\n",
       "    .dataframe tbody tr th:only-of-type {\n",
       "        vertical-align: middle;\n",
       "    }\n",
       "\n",
       "    .dataframe tbody tr th {\n",
       "        vertical-align: top;\n",
       "    }\n",
       "\n",
       "    .dataframe thead th {\n",
       "        text-align: right;\n",
       "    }\n",
       "</style>\n",
       "<table border=\"1\" class=\"dataframe\">\n",
       "  <thead>\n",
       "    <tr style=\"text-align: right;\">\n",
       "      <th></th>\n",
       "      <th>0</th>\n",
       "    </tr>\n",
       "  </thead>\n",
       "  <tbody>\n",
       "    <tr>\n",
       "      <th>parent_model</th>\n",
       "      <td></td>\n",
       "    </tr>\n",
       "    <tr>\n",
       "      <th>format</th>\n",
       "      <td>gguf</td>\n",
       "    </tr>\n",
       "    <tr>\n",
       "      <th>family</th>\n",
       "      <td>llama</td>\n",
       "    </tr>\n",
       "    <tr>\n",
       "      <th>families</th>\n",
       "      <td>llama</td>\n",
       "    </tr>\n",
       "    <tr>\n",
       "      <th>parameter_size</th>\n",
       "      <td>1.2B</td>\n",
       "    </tr>\n",
       "    <tr>\n",
       "      <th>quantization_level</th>\n",
       "      <td>Q8_0</td>\n",
       "    </tr>\n",
       "  </tbody>\n",
       "</table>\n",
       "</div>"
      ],
      "text/plain": [
       "                        0\n",
       "parent_model             \n",
       "format               gguf\n",
       "family              llama\n",
       "families            llama\n",
       "parameter_size       1.2B\n",
       "quantization_level   Q8_0"
      ]
     },
     "execution_count": 70,
     "metadata": {},
     "output_type": "execute_result"
    }
   ],
   "source": [
    "pd.DataFrame(model_details[\"details\"]).T"
   ]
  },
  {
   "cell_type": "code",
   "execution_count": null,
   "metadata": {},
   "outputs": [
    {
     "ename": "ValueError",
     "evalue": "All arrays must be of the same length",
     "output_type": "error",
     "traceback": [
      "\u001b[0;31m---------------------------------------------------------------------------\u001b[0m",
      "\u001b[0;31mValueError\u001b[0m                                Traceback (most recent call last)",
      "Cell \u001b[0;32mIn[57], line 1\u001b[0m\n\u001b[0;32m----> 1\u001b[0m pd\u001b[38;5;241m.\u001b[39mconcat([\u001b[43mpd\u001b[49m\u001b[38;5;241;43m.\u001b[39;49m\u001b[43mDataFrame\u001b[49m\u001b[43m(\u001b[49m\u001b[43mmodel_details\u001b[49m\u001b[43m[\u001b[49m\u001b[38;5;124;43m\"\u001b[39;49m\u001b[38;5;124;43mmodel_info\u001b[39;49m\u001b[38;5;124;43m\"\u001b[39;49m\u001b[43m]\u001b[49m\u001b[43m)\u001b[49m\u001b[38;5;241m.\u001b[39mT,pd\u001b[38;5;241m.\u001b[39mDataFrame(model_details[\u001b[38;5;124m\"\u001b[39m\u001b[38;5;124mdetails\u001b[39m\u001b[38;5;124m\"\u001b[39m])\u001b[38;5;241m.\u001b[39mT])\n",
      "File \u001b[0;32m~/miniconda3/envs/fine-tuning/lib/python3.10/site-packages/pandas/core/frame.py:778\u001b[0m, in \u001b[0;36mDataFrame.__init__\u001b[0;34m(self, data, index, columns, dtype, copy)\u001b[0m\n\u001b[1;32m    772\u001b[0m     mgr \u001b[38;5;241m=\u001b[39m \u001b[38;5;28mself\u001b[39m\u001b[38;5;241m.\u001b[39m_init_mgr(\n\u001b[1;32m    773\u001b[0m         data, axes\u001b[38;5;241m=\u001b[39m{\u001b[38;5;124m\"\u001b[39m\u001b[38;5;124mindex\u001b[39m\u001b[38;5;124m\"\u001b[39m: index, \u001b[38;5;124m\"\u001b[39m\u001b[38;5;124mcolumns\u001b[39m\u001b[38;5;124m\"\u001b[39m: columns}, dtype\u001b[38;5;241m=\u001b[39mdtype, copy\u001b[38;5;241m=\u001b[39mcopy\n\u001b[1;32m    774\u001b[0m     )\n\u001b[1;32m    776\u001b[0m \u001b[38;5;28;01melif\u001b[39;00m \u001b[38;5;28misinstance\u001b[39m(data, \u001b[38;5;28mdict\u001b[39m):\n\u001b[1;32m    777\u001b[0m     \u001b[38;5;66;03m# GH#38939 de facto copy defaults to False only in non-dict cases\u001b[39;00m\n\u001b[0;32m--> 778\u001b[0m     mgr \u001b[38;5;241m=\u001b[39m \u001b[43mdict_to_mgr\u001b[49m\u001b[43m(\u001b[49m\u001b[43mdata\u001b[49m\u001b[43m,\u001b[49m\u001b[43m \u001b[49m\u001b[43mindex\u001b[49m\u001b[43m,\u001b[49m\u001b[43m \u001b[49m\u001b[43mcolumns\u001b[49m\u001b[43m,\u001b[49m\u001b[43m \u001b[49m\u001b[43mdtype\u001b[49m\u001b[38;5;241;43m=\u001b[39;49m\u001b[43mdtype\u001b[49m\u001b[43m,\u001b[49m\u001b[43m \u001b[49m\u001b[43mcopy\u001b[49m\u001b[38;5;241;43m=\u001b[39;49m\u001b[43mcopy\u001b[49m\u001b[43m,\u001b[49m\u001b[43m \u001b[49m\u001b[43mtyp\u001b[49m\u001b[38;5;241;43m=\u001b[39;49m\u001b[43mmanager\u001b[49m\u001b[43m)\u001b[49m\n\u001b[1;32m    779\u001b[0m \u001b[38;5;28;01melif\u001b[39;00m \u001b[38;5;28misinstance\u001b[39m(data, ma\u001b[38;5;241m.\u001b[39mMaskedArray):\n\u001b[1;32m    780\u001b[0m     \u001b[38;5;28;01mfrom\u001b[39;00m\u001b[38;5;250m \u001b[39m\u001b[38;5;21;01mnumpy\u001b[39;00m\u001b[38;5;21;01m.\u001b[39;00m\u001b[38;5;21;01mma\u001b[39;00m\u001b[38;5;250m \u001b[39m\u001b[38;5;28;01mimport\u001b[39;00m mrecords\n",
      "File \u001b[0;32m~/miniconda3/envs/fine-tuning/lib/python3.10/site-packages/pandas/core/internals/construction.py:503\u001b[0m, in \u001b[0;36mdict_to_mgr\u001b[0;34m(data, index, columns, dtype, typ, copy)\u001b[0m\n\u001b[1;32m    499\u001b[0m     \u001b[38;5;28;01melse\u001b[39;00m:\n\u001b[1;32m    500\u001b[0m         \u001b[38;5;66;03m# dtype check to exclude e.g. range objects, scalars\u001b[39;00m\n\u001b[1;32m    501\u001b[0m         arrays \u001b[38;5;241m=\u001b[39m [x\u001b[38;5;241m.\u001b[39mcopy() \u001b[38;5;28;01mif\u001b[39;00m \u001b[38;5;28mhasattr\u001b[39m(x, \u001b[38;5;124m\"\u001b[39m\u001b[38;5;124mdtype\u001b[39m\u001b[38;5;124m\"\u001b[39m) \u001b[38;5;28;01melse\u001b[39;00m x \u001b[38;5;28;01mfor\u001b[39;00m x \u001b[38;5;129;01min\u001b[39;00m arrays]\n\u001b[0;32m--> 503\u001b[0m \u001b[38;5;28;01mreturn\u001b[39;00m \u001b[43marrays_to_mgr\u001b[49m\u001b[43m(\u001b[49m\u001b[43marrays\u001b[49m\u001b[43m,\u001b[49m\u001b[43m \u001b[49m\u001b[43mcolumns\u001b[49m\u001b[43m,\u001b[49m\u001b[43m \u001b[49m\u001b[43mindex\u001b[49m\u001b[43m,\u001b[49m\u001b[43m \u001b[49m\u001b[43mdtype\u001b[49m\u001b[38;5;241;43m=\u001b[39;49m\u001b[43mdtype\u001b[49m\u001b[43m,\u001b[49m\u001b[43m \u001b[49m\u001b[43mtyp\u001b[49m\u001b[38;5;241;43m=\u001b[39;49m\u001b[43mtyp\u001b[49m\u001b[43m,\u001b[49m\u001b[43m \u001b[49m\u001b[43mconsolidate\u001b[49m\u001b[38;5;241;43m=\u001b[39;49m\u001b[43mcopy\u001b[49m\u001b[43m)\u001b[49m\n",
      "File \u001b[0;32m~/miniconda3/envs/fine-tuning/lib/python3.10/site-packages/pandas/core/internals/construction.py:114\u001b[0m, in \u001b[0;36marrays_to_mgr\u001b[0;34m(arrays, columns, index, dtype, verify_integrity, typ, consolidate)\u001b[0m\n\u001b[1;32m    111\u001b[0m \u001b[38;5;28;01mif\u001b[39;00m verify_integrity:\n\u001b[1;32m    112\u001b[0m     \u001b[38;5;66;03m# figure out the index, if necessary\u001b[39;00m\n\u001b[1;32m    113\u001b[0m     \u001b[38;5;28;01mif\u001b[39;00m index \u001b[38;5;129;01mis\u001b[39;00m \u001b[38;5;28;01mNone\u001b[39;00m:\n\u001b[0;32m--> 114\u001b[0m         index \u001b[38;5;241m=\u001b[39m \u001b[43m_extract_index\u001b[49m\u001b[43m(\u001b[49m\u001b[43marrays\u001b[49m\u001b[43m)\u001b[49m\n\u001b[1;32m    115\u001b[0m     \u001b[38;5;28;01melse\u001b[39;00m:\n\u001b[1;32m    116\u001b[0m         index \u001b[38;5;241m=\u001b[39m ensure_index(index)\n",
      "File \u001b[0;32m~/miniconda3/envs/fine-tuning/lib/python3.10/site-packages/pandas/core/internals/construction.py:677\u001b[0m, in \u001b[0;36m_extract_index\u001b[0;34m(data)\u001b[0m\n\u001b[1;32m    675\u001b[0m lengths \u001b[38;5;241m=\u001b[39m \u001b[38;5;28mlist\u001b[39m(\u001b[38;5;28mset\u001b[39m(raw_lengths))\n\u001b[1;32m    676\u001b[0m \u001b[38;5;28;01mif\u001b[39;00m \u001b[38;5;28mlen\u001b[39m(lengths) \u001b[38;5;241m>\u001b[39m \u001b[38;5;241m1\u001b[39m:\n\u001b[0;32m--> 677\u001b[0m     \u001b[38;5;28;01mraise\u001b[39;00m \u001b[38;5;167;01mValueError\u001b[39;00m(\u001b[38;5;124m\"\u001b[39m\u001b[38;5;124mAll arrays must be of the same length\u001b[39m\u001b[38;5;124m\"\u001b[39m)\n\u001b[1;32m    679\u001b[0m \u001b[38;5;28;01mif\u001b[39;00m have_dicts:\n\u001b[1;32m    680\u001b[0m     \u001b[38;5;28;01mraise\u001b[39;00m \u001b[38;5;167;01mValueError\u001b[39;00m(\n\u001b[1;32m    681\u001b[0m         \u001b[38;5;124m\"\u001b[39m\u001b[38;5;124mMixing dicts with non-Series may lead to ambiguous ordering.\u001b[39m\u001b[38;5;124m\"\u001b[39m\n\u001b[1;32m    682\u001b[0m     )\n",
      "\u001b[0;31mValueError\u001b[0m: All arrays must be of the same length"
     ]
    }
   ],
   "source": [
    "pd.concat([pd.DataFrame(model_details[\"model_info\"]).T, \n",
    "           pd.DataFrame(model_details[\"details\"]).T])"
   ]
  },
  {
   "cell_type": "markdown",
   "metadata": {},
   "source": [
    "## Chat"
   ]
  },
  {
   "cell_type": "code",
   "execution_count": 37,
   "metadata": {},
   "outputs": [
    {
     "data": {
      "text/plain": [
       "'El cielo refleja la luz del sol.'"
      ]
     },
     "execution_count": 37,
     "metadata": {},
     "output_type": "execute_result"
    }
   ],
   "source": [
    "# Construir payload\n",
    "user_input = \"Explicame por que el ciello es azul en 5 palabras\"\n",
    "chat_history = []\n",
    "# encoded_image = encode_image(uploaded_image) if uploaded_image else None\n",
    "encoded_image=None\n",
    "response_format = None\n",
    "\n",
    "# Si es la primera vez, agregar un mensaje del sistema\n",
    "if not chat_history or chat_history[0][\"role\"] != \"system\":\n",
    "    system_message = {\"role\": \"system\", \"content\": \"You are a helpful assistant.\"}\n",
    "    chat_history.insert(0, system_message)\n",
    "\n",
    "# Agregar mensaje del usuario\n",
    "message = {\"role\": \"user\", \"content\": user_input}\n",
    "if encoded_image:\n",
    "    message[\"images\"] = [encoded_image]\n",
    "chat_history.append(message)\n",
    "\n",
    "payload = {\n",
    "    \"model\": 'llama3.2:1b',\n",
    "    \"messages\": chat_history,\n",
    "    \"stream\": False,\n",
    "    # \"format\": \"json\" if response_format == \"JSON\" else \"text\"\n",
    "}\n",
    "\n",
    "# Enviar solicitud a Ollama\n",
    "response = requests.post(f\"{OLLAMA_API}/chat\", json=payload, timeout=30)\n",
    "# time.sleep(15)\n",
    "response.raise_for_status()\n",
    "# print(response.text)\n",
    "# Procesar respuesta del modelo\n",
    "response_data = response.json()\n",
    "assistant_response = response_data.get(\"message\", {}).get(\"content\", \"Error en la respuesta\")\n",
    "assistant_response"
   ]
  },
  {
   "cell_type": "code",
   "execution_count": null,
   "metadata": {},
   "outputs": [],
   "source": []
  }
 ],
 "metadata": {
  "kernelspec": {
   "display_name": "fine-tuning",
   "language": "python",
   "name": "python3"
  },
  "language_info": {
   "codemirror_mode": {
    "name": "ipython",
    "version": 3
   },
   "file_extension": ".py",
   "mimetype": "text/x-python",
   "name": "python",
   "nbconvert_exporter": "python",
   "pygments_lexer": "ipython3",
   "version": "3.10.16"
  }
 },
 "nbformat": 4,
 "nbformat_minor": 2
}
